{
 "cells": [
  {
   "cell_type": "markdown",
   "metadata": {},
   "source": [
    "# Load Cell Data Analysis\n",
    "\n",
    "Compare load cell data values for no movement, movement 1, and movement 2 in both time domain and frequency domain using only 5 data points per plot.\n",
    "\n",
    "We will use Power Spectral Density (PSD) and try out other frequency transforms."
   ]
  },
  {
   "cell_type": "markdown",
   "metadata": {},
   "source": [
    "## 1. Import Required Libraries"
   ]
  },
  {
   "cell_type": "code",
   "execution_count": null,
   "metadata": {},
   "outputs": [],
   "source": [
    "import pandas as pd\n",
    "import numpy as np\n",
    "import matplotlib.pyplot as plt\n",
    "from scipy.signal import welch\n",
    "from numpy.fft import fft, fftfreq\n"
   ]
  },
  {
   "cell_type": "markdown",
   "metadata": {},
   "source": [
    "## 2. Load the Data\n",
    "Replace the file names and column name with your actual CSV file names and load cell column."
   ]
  },
  {
   "cell_type": "code",
   "execution_count": null,
   "metadata": {},
   "outputs": [],
   "source": [
    "# Example file names; update as needed\n",
    "no_movement_file = 'no_movement.csv'\n",
    "movement_1_file = 'movement_1.csv'\n",
    "movement_2_file = 'movement_2.csv'\n",
    "\n",
    "# Replace 'load_cell' with the actual column name\n",
    "col = 'load_cell'\n",
    "\n",
    "df_no = pd.read_csv(no_movement_file)\n",
    "df_1 = pd.read_csv(movement_1_file)\n",
    "df_2 = pd.read_csv(movement_2_file)\n"
   ]
  },
  {
   "cell_type": "markdown",
   "metadata": {},
   "source": [
    "## 3. Extract 5-Point Segments\n",
    "You can change the start index to analyze different 5-point windows."
   ]
  },
  {
   "cell_type": "code",
   "execution_count": null,
   "metadata": {},
   "outputs": [],
   "source": [
    "start_idx = 0  # Change this to slide the window\n",
    "segment_no = df_no[col].iloc[start_idx:start_idx+5].values\n",
    "segment_1 = df_1[col].iloc[start_idx:start_idx+5].values\n",
    "segment_2 = df_2[col].iloc[start_idx:start_idx+5].values\n"
   ]
  },
  {
   "cell_type": "markdown",
   "metadata": {},
   "source": [
    "## 4. Plot Time Domain\n",
    "Compare the 5-point segments in the time domain."
   ]
  },
  {
   "cell_type": "code",
   "execution_count": null,
   "metadata": {},
   "outputs": [],
   "source": [
    "plt.figure(figsize=(8,4))\n",
    "plt.plot(segment_no, label='No Movement')\n",
    "plt.plot(segment_1, label='Movement 1')\n",
    "plt.plot(segment_2, label='Movement 2')\n",
    "plt.xlabel('Sample')\n",
    "plt.ylabel('Load Cell Value')\n",
    "plt.title('Time Domain (First 5 Points)')\n",
    "plt.legend()\n",
    "plt.grid(True)\n",
    "plt.show()\n"
   ]
  },
  {
   "cell_type": "markdown",
   "metadata": {},
   "source": [
    "## 5. Frequency Domain Analysis (PSD and FFT)\n",
    "We use Welch's method for PSD and FFT for frequency spectrum."
   ]
  },
  {
   "cell_type": "code",
   "execution_count": null,
   "metadata": {},
   "outputs": [],
   "source": [
    "# Power Spectral Density (PSD)\n",
    "f_no, Pxx_no = welch(segment_no, nperseg=5)\n",
    "f_1, Pxx_1 = welch(segment_1, nperseg=5)\n",
    "f_2, Pxx_2 = welch(segment_2, nperseg=5)\n",
    "\n",
    "plt.figure(figsize=(8,4))\n",
    "plt.semilogy(f_no, Pxx_no, label='No Movement')\n",
    "plt.semilogy(f_1, Pxx_1, label='Movement 1')\n",
    "plt.semilogy(f_2, Pxx_2, label='Movement 2')\n",
    "plt.xlabel('Frequency [Hz]')\n",
    "plt.ylabel('PSD')\n",
    "plt.title('Frequency Domain (PSD, First 5 Points)')\n",
    "plt.legend()\n",
    "plt.grid(True)\n",
    "plt.show()\n",
    "\n",
    "# FFT\n",
    "N = 5\n",
    "T = 1.0  # Assume sample spacing = 1\n",
    "xf = fftfreq(N, T)[:N//2]\n",
    "yf_no = fft(segment_no)\n",
    "yf_1 = fft(segment_1)\n",
    "yf_2 = fft(segment_2)\n",
    "\n",
    "plt.figure(figsize=(8,4))\n",
    "plt.plot(xf, 2.0/N * np.abs(yf_no[0:N//2]), label='No Movement')\n",
    "plt.plot(xf, 2.0/N * np.abs(yf_1[0:N//2]), label='Movement 1')\n",
    "plt.plot(xf, 2.0/N * np.abs(yf_2[0:N//2]), label='Movement 2')\n",
    "plt.xlabel('Frequency [Hz]')\n",
    "plt.ylabel('Amplitude')\n",
    "plt.title('Frequency Domain (FFT, First 5 Points)')\n",
    "plt.legend()\n",
    "plt.grid(True)\n",
    "plt.show()\n"
   ]
  },
  {
   "cell_type": "markdown",
   "metadata": {},
   "source": [
    "## 6. (Optional) Slide the 5-Point Window\n",
    "You can loop through your data in steps of 5 or with overlap to analyze all possible windows."
   ]
  }
 ],
 "metadata": {
  "kernelspec": {
   "display_name": "Python 3",
   "language": "python",
   "name": "python3"
  },
  "language_info": {
   "name": "python",
   "version": "3.8"
  }
 },
 "nbformat": 4,
 "nbformat_minor": 2
}
